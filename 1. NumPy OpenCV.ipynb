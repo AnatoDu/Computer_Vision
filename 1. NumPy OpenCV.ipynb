{
  "nbformat": 4,
  "nbformat_minor": 0,
  "metadata": {
    "colab": {
      "provenance": []
    },
    "kernelspec": {
      "name": "python3",
      "display_name": "Python 3"
    },
    "language_info": {
      "name": "python"
    }
  },
  "cells": [
    {
      "cell_type": "markdown",
      "source": [
        "# Основы работы с изображениями в NumPy и OpenCV  "
      ],
      "metadata": {
        "id": "cp5Wwx3dUeMk"
      }
    },
    {
      "cell_type": "code",
      "source": [
        "import cv2\n",
        "import numpy as np\n",
        "import matplotlib.pyplot as plt\n",
        "from IPython.display import Image, display\n",
        "import os"
      ],
      "metadata": {
        "id": "VuBBWlANRaob"
      },
      "execution_count": 2,
      "outputs": []
    },
    {
      "cell_type": "code",
      "source": [
        "# ===============================\n",
        "# ЗАДАНИЕ 1: Загрузка и анализ изображения\n",
        "# ===============================\n",
        "\n",
        "# Загружаем тестовое изображение\n",
        "# ПРИМЕЧАНИЕ: Замените на путь к своему изображению\n",
        "img_path = 'sample.jpg'  # Или любое доступное изображение\n",
        "\n",
        "if os.path.exists(img_path):\n",
        "    img = cv2.imread(img_path)\n",
        "\n",
        "    print(f\"✅ Изображение загружено: {img_path}\")\n",
        "    print(f\"📐 Размер изображения: {img.shape}\")\n",
        "    print(f\"🗂️  Тип данных: {img.dtype}\")\n",
        "    print(f\"🔢 Общее количество элементов: {img.size}\")\n",
        "    print(f\"💾 Размер в памяти: {img.nbytes / (1024**2):.2f} МБ\")\n",
        "\n",
        "    # Анализ конкретного пикселя\n",
        "    height, width = img.shape[:2]\n",
        "    y, x = height // 2, width // 2  # Центр изображения\n",
        "\n",
        "    pixel_bgr = img[y, x]\n",
        "    print(f\"\\n🎯 Анализ центрального пикселя ({x}, {y}):\")\n",
        "    print(f\"   BGR значения: {pixel_bgr}\")\n",
        "    print(f\"   Blue:  {pixel_bgr[0]}\")\n",
        "    print(f\"   Green: {pixel_bgr[1]}\")\n",
        "    print(f\"   Red:   {pixel_bgr[2]}\")\n",
        "\n",
        "else:\n",
        "    print(\"❌ Файл не найден. Создаём синтетическое изображение для демонстрации...\")\n",
        "\n",
        "    # Создаём тестовое изображение\n",
        "    img = np.zeros((300, 400, 3), dtype=np.uint8)\n",
        "\n",
        "    # Добавляем цветные прямоугольники\n",
        "    img[50:100, 50:150] = [255, 0, 0]    # Синий прямоугольник (BGR)\n",
        "    img[50:100, 200:300] = [0, 255, 0]   # Зелёный прямоугольник\n",
        "    img[150:200, 50:150] = [0, 0, 255]   # Красный прямоугольник\n",
        "    img[150:200, 200:300] = [255, 255, 0] # Циан (жёлтый в BGR)\n",
        "\n",
        "    # Добавляем градиент\n",
        "    for i in range(300):\n",
        "        for j in range(400):\n",
        "            if i > 220:\n",
        "                img[i, j] = [i-220, j*255//400, 128]\n",
        "\n",
        "    print(\"✅ Синтетическое изображение создано\")\n",
        "    print(f\"📐 Размер: {img.shape}\")"
      ],
      "metadata": {
        "colab": {
          "base_uri": "https://localhost:8080/"
        },
        "id": "JZSeJELIRamU",
        "outputId": "6692d2c8-0e85-457e-ba38-89729e555981"
      },
      "execution_count": 3,
      "outputs": [
        {
          "output_type": "stream",
          "name": "stdout",
          "text": [
            "✅ Изображение загружено: sample.jpg\n",
            "📐 Размер изображения: (768, 1024, 3)\n",
            "🗂️  Тип данных: uint8\n",
            "🔢 Общее количество элементов: 2359296\n",
            "💾 Размер в памяти: 2.25 МБ\n",
            "\n",
            "🎯 Анализ центрального пикселя (512, 384):\n",
            "   BGR значения: [234 193 168]\n",
            "   Blue:  234\n",
            "   Green: 193\n",
            "   Red:   168\n"
          ]
        }
      ]
    },
    {
      "cell_type": "code",
      "source": [
        "# ===============================\n",
        "# ЗАДАНИЕ 2: Демонстрация проблемы BGR vs RGB\n",
        "# ===============================\n",
        "\n",
        "# Конвертируем BGR → RGB для корректного отображения\n",
        "img_rgb = cv2.cvtColor(img, cv2.COLOR_BGR2RGB)\n",
        "\n",
        "fig, axes = plt.subplots(1, 3, figsize=(15, 5))\n",
        "\n",
        "# Неправильное отображение (BGR в matplotlib)\n",
        "axes[0].imshow(img)\n",
        "axes[0].set_title('❌ НЕПРАВИЛЬНО!\\nБлок загружен как BGR,\\nно отображён как RGB')\n",
        "axes[0].axis('off')\n",
        "\n",
        "# Правильное отображение после конвертации\n",
        "axes[1].imshow(img_rgb)\n",
        "axes[1].set_title('✅ ПРАВИЛЬНО!\\nПосле конвертации BGR→RGB')\n",
        "axes[1].axis('off')\n",
        "\n",
        "# Для сравнения - grayscale версия\n",
        "img_gray = cv2.cvtColor(img, cv2.COLOR_BGR2GRAY)\n",
        "axes[2].imshow(img_gray, cmap='gray')\n",
        "axes[2].set_title('🔲 Grayscale версия')\n",
        "axes[2].axis('off')\n",
        "\n",
        "plt.tight_layout()\n",
        "plt.show()\n",
        "\n",
        "print(\"💡 Вывод: OpenCV загружает изображения в BGR, но matplotlib ожидает RGB!\")\n"
      ],
      "metadata": {
        "id": "LKrN88GKRakS"
      },
      "execution_count": null,
      "outputs": []
    },
    {
      "cell_type": "code",
      "source": [
        "# ===============================\n",
        "# ЗАДАНИЕ 3: Исследование цветовых пространств\n",
        "# ===============================\n",
        "\n",
        "# Конвертируем в различные цветовые пространства\n",
        "conversions = {\n",
        "    'RGB': (cv2.cvtColor(img, cv2.COLOR_BGR2RGB), None),\n",
        "    'Grayscale': (cv2.cvtColor(img, cv2.COLOR_BGR2GRAY), 'gray'),\n",
        "    'HSV': (cv2.cvtColor(img, cv2.COLOR_BGR2HSV), None),\n",
        "    'LAB': (cv2.cvtColor(img, cv2.COLOR_BGR2LAB), None)\n",
        "}\n",
        "\n",
        "fig, axes = plt.subplots(2, 2, figsize=(12, 10))\n",
        "axes = axes.flatten()\n",
        "\n",
        "for i, (name, (image, cmap)) in enumerate(conversions.items()):\n",
        "    axes[i].imshow(image, cmap=cmap)\n",
        "    axes[i].set_title(f'{name} цветовое пространство')\n",
        "    axes[i].axis('off')\n",
        "\n",
        "    # Выводим диапазоны значений\n",
        "    print(f\"\\n🎨 {name}:\")\n",
        "    if len(image.shape) == 3:\n",
        "        for ch in range(image.shape[2]):\n",
        "            print(f\"   Канал {ch}: {image[:,:,ch].min()} - {image[:,:,ch].max()}\")\n",
        "    else:\n",
        "        print(f\"   Значения: {image.min()} - {image.max()}\")\n",
        "\n",
        "plt.tight_layout()\n",
        "plt.show()"
      ],
      "metadata": {
        "id": "a-DS4lq0Rah9"
      },
      "execution_count": null,
      "outputs": []
    },
    {
      "cell_type": "code",
      "source": [
        "# ===============================\n",
        "# ЗАДАНИЕ 4: Детальный анализ HSV пространства\n",
        "# ===============================\n",
        "\n",
        "img_hsv = cv2.cvtColor(img, cv2.COLOR_BGR2HSV)\n",
        "\n",
        "# Разделяем каналы\n",
        "h, s, v = cv2.split(img_hsv)\n",
        "\n",
        "fig, axes = plt.subplots(2, 2, figsize=(12, 10))\n",
        "\n",
        "# Исходное изображение\n",
        "axes[0, 0].imshow(img_rgb)\n",
        "axes[0, 0].set_title('🌈 Исходное изображение (RGB)')\n",
        "axes[0, 0].axis('off')\n",
        "\n",
        "# Канал Hue (Оттенок)\n",
        "axes[0, 1].imshow(h, cmap='hsv')\n",
        "axes[0, 1].set_title(f'🎯 Hue (Оттенок)\\nДиапазон: {h.min()}-{h.max()}')\n",
        "axes[0, 1].axis('off')\n",
        "\n",
        "# Канал Saturation (Насыщенность)\n",
        "axes[1, 0].imshow(s, cmap='gray')\n",
        "axes[1, 0].set_title(f'💫 Saturation (Насыщенность)\\nДиапазон: {s.min()}-{s.max()}')\n",
        "axes[1, 0].axis('off')\n",
        "\n",
        "# Канал Value (Яркость)\n",
        "axes[1, 1].imshow(v, cmap='gray')\n",
        "axes[1, 1].set_title(f'💡 Value (Яркость)\\nДиапазон: {v.min()}-{v.max()}')\n",
        "axes[1, 1].axis('off')\n",
        "\n",
        "plt.tight_layout()\n",
        "plt.show()\n",
        "\n",
        "# Статистика HSV каналов\n",
        "print(\"📊 Статистика HSV каналов:\")\n",
        "channels = [('Hue', h), ('Saturation', s), ('Value', v)]\n",
        "\n",
        "for name, channel in channels:\n",
        "    print(f\"\\n{name}:\")\n",
        "    print(f\"   Среднее: {np.mean(channel):.1f}\")\n",
        "    print(f\"   Медиана: {np.median(channel):.1f}\")\n",
        "    print(f\"   Стд. отклонение: {np.std(channel):.1f}\")"
      ],
      "metadata": {
        "id": "c49w3aXTRafh"
      },
      "execution_count": null,
      "outputs": []
    },
    {
      "cell_type": "code",
      "source": [
        "# ===============================\n",
        "# ЗАДАНИЕ 5: Манипуляции с пикселями\n",
        "# ===============================\n",
        "\n",
        "# Создаём копию для экспериментов\n",
        "img_modified = img_rgb.copy()\n",
        "\n",
        "# 1. Изменяем цвет отдельных пикселей\n",
        "height, width = img_modified.shape[:2]\n",
        "\n",
        "# Рисуем красный крестик в центре\n",
        "center_y, center_x = height // 2, width // 2\n",
        "cross_size = 20\n",
        "\n",
        "# Горизонтальная линия\n",
        "img_modified[center_y-2:center_y+3, center_x-cross_size:center_x+cross_size] = [255, 0, 0]\n",
        "# Вертикальная линия\n",
        "img_modified[center_y-cross_size:center_y+cross_size, center_x-2:center_x+3] = [255, 0, 0]\n",
        "\n",
        "# 2. Изменяем прямоугольную область\n",
        "img_modified[10:60, 10:100] = [0, 255, 255]  # Жёлтый прямоугольник\n",
        "\n",
        "# 3. Применяем маску для изменения только определённых пикселей\n",
        "# Создаём маску для ярких пикселей\n",
        "gray = cv2.cvtColor(img_rgb, cv2.COLOR_RGB2GRAY)\n",
        "bright_mask = gray > 200\n",
        "\n",
        "# Применяем синий оттенок к ярким областям\n",
        "img_modified[bright_mask] = img_modified[bright_mask] * 0.7 + np.array([0, 0, 255]) * 0.3\n",
        "\n",
        "fig, axes = plt.subplots(1, 3, figsize=(15, 5))\n",
        "\n",
        "axes[0].imshow(img_rgb)\n",
        "axes[0].set_title('Исходное изображение')\n",
        "axes[0].axis('off')\n",
        "\n",
        "axes[1].imshow(img_modified)\n",
        "axes[1].set_title('После модификации')\n",
        "axes[1].axis('off')\n",
        "\n",
        "# Показываем маску\n",
        "axes[2].imshow(bright_mask, cmap='gray')\n",
        "axes[2].set_title('Маска ярких областей')\n",
        "axes[2].axis('off')\n",
        "\n",
        "plt.tight_layout()\n",
        "plt.show()"
      ],
      "metadata": {
        "id": "YdFo7LEHRada"
      },
      "execution_count": null,
      "outputs": []
    },
    {
      "cell_type": "code",
      "source": [
        "# ===============================\n",
        "# ЗАДАНИЕ 6: Арифметические операции с изображениями\n",
        "# ===============================\n",
        "\n",
        "# Создаём два тестовых изображения\n",
        "img1 = img_rgb.copy()\n",
        "img2 = np.roll(img1, 50, axis=1)  # Сдвигаем по горизонтали\n",
        "\n",
        "# Различные арифметические операции\n",
        "operations = {\n",
        "    'Сложение': np.clip(img1.astype(np.int16) + img2.astype(np.int16), 0, 255).astype(np.uint8),\n",
        "    'Вычитание': np.clip(img1.astype(np.int16) - img2.astype(np.int16), 0, 255).astype(np.uint8),\n",
        "    'Среднее': ((img1.astype(np.int16) + img2.astype(np.int16)) // 2).astype(np.uint8),\n",
        "    'Максимум': np.maximum(img1, img2)\n",
        "}\n",
        "\n",
        "fig, axes = plt.subplots(2, 3, figsize=(15, 10))\n",
        "axes = axes.flatten()\n",
        "\n",
        "# Исходные изображения\n",
        "axes[0].imshow(img1)\n",
        "axes[0].set_title('Изображение 1')\n",
        "axes[0].axis('off')\n",
        "\n",
        "axes[1].imshow(img2)\n",
        "axes[1].set_title('Изображение 2 (сдвинутое)')\n",
        "axes[1].axis('off')\n",
        "\n",
        "# Результаты операций\n",
        "for i, (name, result) in enumerate(operations.items(), 2):\n",
        "    axes[i].imshow(result)\n",
        "    axes[i].set_title(name)\n",
        "    axes[i].axis('off')\n",
        "\n",
        "plt.tight_layout()\n",
        "plt.show()"
      ],
      "metadata": {
        "id": "R3cqOZRkRaa_"
      },
      "execution_count": null,
      "outputs": []
    },
    {
      "cell_type": "code",
      "source": [],
      "metadata": {
        "id": "Kmk1f71_RaYc"
      },
      "execution_count": null,
      "outputs": []
    },
    {
      "cell_type": "markdown",
      "source": [
        "## 📝 ДОМАШНЕЕ ЗАДАНИЕ:\n",
        "1. Загрузите своё фото и создайте коллаж из 6 представлений:\n",
        "   - RGB, BGR, Grayscale, и отдельно каналы H, S, V\n",
        "2. Поэкспериментируйте с различными арифметическими операциями\n",
        "3. Создайте функцию для преобразования изображения в сепию\n",
        "\n",
        "\n"
      ],
      "metadata": {
        "id": "UfOX2NRLV_Ci"
      }
    },
    {
      "cell_type": "code",
      "source": [],
      "metadata": {
        "id": "-qbBoyyJRaH2"
      },
      "execution_count": null,
      "outputs": []
    }
  ]
}